{
  "cells": [
    {
      "cell_type": "code",
      "execution_count": 2,
      "metadata": {
        "colab": {
          "base_uri": "https://localhost:8080/"
        },
        "id": "ApJS9O7OuwlQ",
        "outputId": "2d727886-a06b-42e3-83bf-0d5eeb945774"
      },
      "outputs": [
        {
          "name": "stdout",
          "output_type": "stream",
          "text": [
            "Reversed string: noht\n"
          ]
        }
      ],
      "source": [
        "char_list = list(input(\"Enter the word 'Python\"))\n",
        "del char_list[0:2]\n",
        "reversed_str = \"\".join(reversed(char_list))\n",
        "print(\"Reversed string:\", reversed_str)"
      ]
    },
    {
      "cell_type": "code",
      "execution_count": 3,
      "metadata": {},
      "outputs": [
        {
          "name": "stdout",
          "output_type": "stream",
          "text": [
            "Addition: 25.0\n",
            "Subtraction: 5.0\n",
            "Multiplication: 150.0\n",
            "Division: 1.5\n"
          ]
        }
      ],
      "source": [
        "num1 = float(input(\"Enter the first number: \"))\n",
        "num2 = float(input(\"Enter the second number: \"))\n",
        "result1 = num1 + num2\n",
        "result2 = num1 - num2\n",
        "result3 = num1 * num2\n",
        "result4 = num1 / num2\n",
        "print(\"Addition:\", result1)\n",
        "print(\"Subtraction:\", result2)\n",
        "print(\"Multiplication:\", result3)\n",
        "print(\"Division:\", result4)"
      ]
    },
    {
      "cell_type": "code",
      "execution_count": 4,
      "metadata": {
        "colab": {
          "base_uri": "https://localhost:8080/"
        },
        "id": "09y_d58axWPf",
        "outputId": "9650b3ba-dc02-42a3-9fe7-f30f6a44d556"
      },
      "outputs": [
        {
          "name": "stdout",
          "output_type": "stream",
          "text": [
            "Modified sentence: i love pythons programming\n"
          ]
        }
      ],
      "source": [
        "sentence = input(\"Enter a sentence: \")\n",
        "new_sentence = sentence.lower().replace('python', 'pythons')\n",
        "print(\"Modified sentence:\", new_sentence)"
      ]
    },
    {
      "cell_type": "code",
      "execution_count": 5,
      "metadata": {
        "colab": {
          "base_uri": "https://localhost:8080/"
        },
        "id": "3b5efQGb1Acc",
        "outputId": "a67beb5a-94e0-4017-894a-dfba69931bf8"
      },
      "outputs": [
        {
          "name": "stdout",
          "output_type": "stream",
          "text": [
            "Your letter grade is: C\n"
          ]
        }
      ],
      "source": [
        "class_score = float(input(\"Enter your class score (out of 100): \"))\n",
        "if class_score >= 90:\n",
        "    letter_grade = \"A\"\n",
        "elif class_score >= 80:\n",
        "    letter_grade = \"B\"\n",
        "elif class_score >= 70:\n",
        "    letter_grade = \"C\"\n",
        "elif class_score >= 60:\n",
        "    letter_grade = \"D\"\n",
        "else:\n",
        "    letter_grade = \"F\"\n",
        "print(\"Your letter grade is:\", letter_grade)"
      ]
    }
  ],
  "metadata": {
    "colab": {
      "provenance": []
    },
    "kernelspec": {
      "display_name": "Python 3",
      "name": "python3"
    },
    "language_info": {
      "codemirror_mode": {
        "name": "ipython",
        "version": 3
      },
      "file_extension": ".py",
      "mimetype": "text/x-python",
      "name": "python",
      "nbconvert_exporter": "python",
      "pygments_lexer": "ipython3",
      "version": "3.11.5"
    }
  },
  "nbformat": 4,
  "nbformat_minor": 0
}
